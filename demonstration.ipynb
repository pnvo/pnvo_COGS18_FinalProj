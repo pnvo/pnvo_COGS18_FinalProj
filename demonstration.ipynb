{
 "cells": [
  {
   "cell_type": "code",
   "execution_count": 1,
   "metadata": {},
   "outputs": [
    {
     "name": "stdout",
     "output_type": "stream",
     "text": [
      "\n"
     ]
    }
   ],
   "source": [
    "\"\"\"\n",
    "\n",
    "Project Description:\n",
    "\n",
    "I just recently got into finances; managing my own money, investing here and there, so I wanted to work on a finance \n",
    "related project for our classes' final. The concept was a little bit more complex than what I was expecting, but I \n",
    "learned a lot and got to reinforce what we learned throughout the course greatly. I turned to StackOverflow and GitHub \n",
    "for directions on where to go and how I should approach certain tasks, but all of the code in this project is mine.\n",
    "\n",
    "With that being said, some things may not be as smooth as they could be; I didn't understand a lot of the jargon that \n",
    "was thrown around while I was researching, but I managed to get everything to work.\n",
    "\n",
    "Supported features:\n",
    "    Basic:\n",
    "        Create a user profile\n",
    "        Create accounts to store money\n",
    "        Withdrawing, depositing money from existing accounts \n",
    "        Showing your balances\n",
    "        \n",
    "    Not-so-basic:\n",
    "        Calculating compound interest rate over time period and rate given a certain account \n",
    "        Loading/saving user profiles (This was by far the most confusing part for me.)\n",
    "\n",
    "\"\"\"\n",
    "\n",
    "\"\"\"\n",
    "\n",
    "How to run:\n",
    "\n",
    "The application itself can be run in your terminal by: python3 main.py. The application runs a \"while True:\" loop that\n",
    "keeps fetching user input and prompting them accordingly. I made a lot of unit/integration tests inside of:\n",
    "'local_testing.py' but there may be a few edge cases that I missed. This notebook will show some of the features \n",
    "that I implemented. You can see how everything works by examining the 'utilities' folder. 'main.py' is the actual \n",
    "thing that runs the 'application' code, which creates user objects and saves them in json files inside of '/data/'\n",
    "\n",
    "With the way the files are loaded, you don't need to import anything. It's meant to be a terminal application; simply\n",
    "put '%run main.py' inside of Jupyter and it'll start prompting you. \n",
    "\"\"\"\n",
    "\n",
    "print()"
   ]
  },
  {
   "cell_type": "code",
   "execution_count": 2,
   "metadata": {},
   "outputs": [
    {
     "name": "stdout",
     "output_type": "stream",
     "text": [
      "Welcome to Jenny's Python banking service. Is this your first time? (y, n) y\n",
      "\n",
      "\n",
      "        This is a pretty basic setup. Some supported operations include:\n",
      "            1. Creating an account.\n",
      "            2. Adding saving/checking accounts.\n",
      "            3. Withdrawing/depositing money into your accounts.\n",
      "            4. Calculating interest rates.\n",
      "\n",
      "        \n",
      "Would you like to create an account? (y, n) y\n",
      "Please enter your account username: Jenny\n",
      "Please enter your account password: 12345\n",
      "Alright, Jenny. We just made your account. Please log into your account with the username and password.\n"
     ]
    }
   ],
   "source": [
    "# General usage\n",
    "%run main.py"
   ]
  },
  {
   "cell_type": "code",
   "execution_count": 3,
   "metadata": {},
   "outputs": [
    {
     "name": "stdout",
     "output_type": "stream",
     "text": [
      "Welcome to Jenny's Python banking service. Is this your first time? (y, n) n\n",
      "What is your username? Jenny\n",
      "What is your password? 12345\n",
      "Account successfully validated.\n",
      "Successfully loaded: Jenny\n",
      "What would you like to do? ['withdraw', 'deposit', 'add account', 'list balances', 'exit', 'calculate interest'] list balances\n",
      "{'checkings': 0.0, 'savings': 0.0}\n",
      "What would you like to do? ['withdraw', 'deposit', 'add account', 'list balances', 'exit', 'calculate interest'] deposit\n",
      "What account would you like to deposit into? ['checkings', 'savings'] checkings\n",
      "How much would you like to deposit? 1000\n",
      "What would you like to do? ['withdraw', 'deposit', 'add account', 'list balances', 'exit', 'calculate interest'] list balances\n",
      "{'checkings': 1000.0, 'savings': 0.0}\n",
      "What would you like to do? ['withdraw', 'deposit', 'add account', 'list balances', 'exit', 'calculate interest'] withdraw\n",
      "What account would you like to withdraw from? ['checkings', 'savings'] checkings\n",
      "How much would you like to withdraw? 90\n",
      "What would you like to do? ['withdraw', 'deposit', 'add account', 'list balances', 'exit', 'calculate interest'] list balances\n",
      "{'checkings': 910.0, 'savings': 0.0}\n",
      "What would you like to do? ['withdraw', 'deposit', 'add account', 'list balances', 'exit', 'calculate interest'] exit\n",
      "Thanks for using our services!\n"
     ]
    }
   ],
   "source": [
    "# Running in a seperate instance to demonstrate loading in user data\n",
    "%run main.py"
   ]
  },
  {
   "cell_type": "code",
   "execution_count": 4,
   "metadata": {},
   "outputs": [
    {
     "name": "stdout",
     "output_type": "stream",
     "text": [
      "Welcome to Jenny's Python banking service. Is this your first time? (y, n) n\n",
      "What is your username? Jenny\n",
      "What is your password? 12345\n",
      "Account successfully validated.\n",
      "Successfully loaded: Jenny\n",
      "What would you like to do? ['withdraw', 'deposit', 'add account', 'list balances', 'exit', 'calculate interest'] list balances\n",
      "{'checkings': 910.0, 'savings': 0.0}\n",
      "What would you like to do? ['withdraw', 'deposit', 'add account', 'list balances', 'exit', 'calculate interest'] withdraw\n",
      "What account would you like to withdraw from? ['checkings', 'savings'] checkings\n",
      "How much would you like to withdraw? 100\n",
      "What would you like to do? ['withdraw', 'deposit', 'add account', 'list balances', 'exit', 'calculate interest'] list balances\n",
      "{'checkings': 810.0, 'savings': 0.0}\n",
      "What would you like to do? ['withdraw', 'deposit', 'add account', 'list balances', 'exit', 'calculate interest'] exit\n",
      "Thanks for using our services!\n"
     ]
    }
   ],
   "source": [
    "# Saving/loading between instances (should have 910 in checkings and 0 in savings)\n",
    "%run main.py"
   ]
  },
  {
   "cell_type": "code",
   "execution_count": 5,
   "metadata": {},
   "outputs": [
    {
     "name": "stdout",
     "output_type": "stream",
     "text": [
      "Welcome to Jenny's Python banking service. Is this your first time? (y, n) n\n",
      "What is your username? Jenny\n",
      "What is your password? 9109021904192\n",
      "Incorrect password.\n",
      "Something's wrong with your username or password. Please try again. \n"
     ]
    }
   ],
   "source": [
    "# Invalid login operations \n",
    "%run main.py"
   ]
  },
  {
   "cell_type": "code",
   "execution_count": 7,
   "metadata": {},
   "outputs": [
    {
     "name": "stdout",
     "output_type": "stream",
     "text": [
      "Welcome to Jenny's Python banking service. Is this your first time? (y, n) n\n",
      "What is your username? 10290j9\n",
      "What is your password? oi\n",
      "Error when looking up your account, are you sure you have an account with us?\n",
      "Something's wrong with your username or password. Please try again. \n"
     ]
    }
   ],
   "source": [
    "%run main.py"
   ]
  },
  {
   "cell_type": "code",
   "execution_count": 8,
   "metadata": {},
   "outputs": [
    {
     "name": "stdout",
     "output_type": "stream",
     "text": [
      "Welcome to Jenny's Python banking service. Is this your first time? (y, n) n\n",
      "What is your username? Jenny\n",
      "What is your password? 12345\n",
      "Account successfully validated.\n",
      "Successfully loaded: Jenny\n",
      "What would you like to do? ['withdraw', 'deposit', 'add account', 'list balances', 'exit', 'calculate interest'] withdraw\n",
      "What account would you like to withdraw from? ['checkings', 'savings'] savings\n",
      "How much would you like to withdraw? 1000\n",
      "Insufficient funds in savings account.\n",
      "What would you like to do? ['withdraw', 'deposit', 'add account', 'list balances', 'exit', 'calculate interest'] withdraw\n",
      "What account would you like to withdraw from? ['checkings', 'savings'] savings\n",
      "How much would you like to withdraw? -90\n",
      "Can't do anything with negative money!\n",
      "What would you like to do? ['withdraw', 'deposit', 'add account', 'list balances', 'exit', 'calculate interest'] withdraw\n",
      "What account would you like to withdraw from? ['checkings', 'savings'] checkings\n",
      "How much would you like to withdraw? -90000\n",
      "Can't do anything with negative money!\n",
      "What would you like to do? ['withdraw', 'deposit', 'add account', 'list balances', 'exit', 'calculate interest'] list balances\n",
      "{'checkings': 810.0, 'savings': 0.0}\n",
      "What would you like to do? ['withdraw', 'deposit', 'add account', 'list balances', 'exit', 'calculate interest'] deposit\n",
      "What account would you like to deposit into? ['checkings', 'savings'] checkings\n",
      "How much would you like to deposit? -9000\n",
      "Can't do anything with negative money.\n",
      "What would you like to do? ['withdraw', 'deposit', 'add account', 'list balances', 'exit', 'calculate interest'] list balances\n",
      "{'checkings': 810.0, 'savings': 0.0}\n",
      "What would you like to do? ['withdraw', 'deposit', 'add account', 'list balances', 'exit', 'calculate interest'] exit\n",
      "Thanks for using our services!\n"
     ]
    }
   ],
   "source": [
    "# Invalid user operations \n",
    "%run main.py"
   ]
  },
  {
   "cell_type": "code",
   "execution_count": 2,
   "metadata": {},
   "outputs": [
    {
     "name": "stdout",
     "output_type": "stream",
     "text": [
      "Welcome to Jenny's Python banking service. Is this your first time? (y, n) n\n",
      "What is your username? Jenny\n",
      "What is your password? 12345\n",
      "Account successfully validated.\n",
      "Successfully loaded: Jenny\n",
      "What would you like to do? ['withdraw', 'deposit', 'add account', 'list balances', 'exit', 'calculate interest'] calculate interest\n",
      "Which account would you like to calculate compound interest on?checkings\n",
      "What's the interest rate on this account? (integer/float ) 3.5\n",
      "What's the amount of times interest will be applied? (per time period, integer) 10\n",
      "How many time periods will you be going through? (integer/float) 10\n",
      "Your final balance will be: 8747055223063355.0\n",
      "What would you like to do? ['withdraw', 'deposit', 'add account', 'list balances', 'exit', 'calculate interest'] list balances\n",
      "{'checkings': 810.0, 'savings': 0.0}\n",
      "What would you like to do? ['withdraw', 'deposit', 'add account', 'list balances', 'exit', 'calculate interest'] exit\n",
      "Thanks for using our services!\n"
     ]
    }
   ],
   "source": [
    "# Calculating interest \n",
    "%run main.py"
   ]
  },
  {
   "cell_type": "code",
   "execution_count": null,
   "metadata": {},
   "outputs": [],
   "source": []
  }
 ],
 "metadata": {
  "kernelspec": {
   "display_name": "Python 3",
   "language": "python",
   "name": "python3"
  },
  "language_info": {
   "codemirror_mode": {
    "name": "ipython",
    "version": 3
   },
   "file_extension": ".py",
   "mimetype": "text/x-python",
   "name": "python",
   "nbconvert_exporter": "python",
   "pygments_lexer": "ipython3",
   "version": "3.8.1"
  }
 },
 "nbformat": 4,
 "nbformat_minor": 4
}
